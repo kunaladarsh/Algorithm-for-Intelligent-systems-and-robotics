{
 "cells": [
  {
   "cell_type": "markdown",
   "id": "313bfb5b",
   "metadata": {},
   "source": [
    "# Installing Packages"
   ]
  },
  {
   "cell_type": "code",
   "execution_count": 3,
   "id": "91deb3c9",
   "metadata": {},
   "outputs": [
    {
     "name": "stdout",
     "output_type": "stream",
     "text": [
      "Requirement already satisfied: GEKKO in c:\\setup program\\anaconda\\lib\\site-packages (1.0.5)\n",
      "Requirement already satisfied: numpy>=1.8 in c:\\setup program\\anaconda\\lib\\site-packages (from GEKKO) (1.20.3)\n",
      "Note: you may need to restart the kernel to use updated packages.\n"
     ]
    }
   ],
   "source": [
    "pip install GEKKO"
   ]
  },
  {
   "cell_type": "code",
   "execution_count": 4,
   "id": "f344cef8",
   "metadata": {},
   "outputs": [
    {
     "name": "stdout",
     "output_type": "stream",
     "text": [
      "Requirement already satisfied: control in c:\\setup program\\anaconda\\lib\\site-packages (0.9.2)\n",
      "Requirement already satisfied: numpy in c:\\setup program\\anaconda\\lib\\site-packages (from control) (1.20.3)\n",
      "Requirement already satisfied: scipy in c:\\setup program\\anaconda\\lib\\site-packages (from control) (1.7.1)\n",
      "Requirement already satisfied: matplotlib in c:\\setup program\\anaconda\\lib\\site-packages (from control) (3.4.3)\n",
      "Requirement already satisfied: pyparsing>=2.2.1 in c:\\setup program\\anaconda\\lib\\site-packages (from matplotlib->control) (3.0.4)\n",
      "Requirement already satisfied: kiwisolver>=1.0.1 in c:\\setup program\\anaconda\\lib\\site-packages (from matplotlib->control) (1.3.1)\n",
      "Requirement already satisfied: python-dateutil>=2.7 in c:\\setup program\\anaconda\\lib\\site-packages (from matplotlib->control) (2.8.2)\n",
      "Requirement already satisfied: pillow>=6.2.0 in c:\\setup program\\anaconda\\lib\\site-packages (from matplotlib->control) (8.4.0)\n",
      "Requirement already satisfied: cycler>=0.10 in c:\\setup program\\anaconda\\lib\\site-packages (from matplotlib->control) (0.10.0)\n",
      "Requirement already satisfied: six in c:\\setup program\\anaconda\\lib\\site-packages (from cycler>=0.10->matplotlib->control) (1.16.0)\n",
      "Note: you may need to restart the kernel to use updated packages.\n"
     ]
    }
   ],
   "source": [
    "pip install control"
   ]
  },
  {
   "cell_type": "code",
   "execution_count": 5,
   "id": "17ca93b4",
   "metadata": {},
   "outputs": [
    {
     "name": "stdout",
     "output_type": "stream",
     "text": [
      "Requirement already satisfied: py in c:\\setup program\\anaconda\\lib\\site-packages (1.10.0)\n",
      "Requirement already satisfied: lab in c:\\setup program\\anaconda\\lib\\site-packages (7.1)\n",
      "Requirement already satisfied: simplejson in c:\\setup program\\anaconda\\lib\\site-packages (from lab) (3.17.6)\n",
      "Requirement already satisfied: txt2tags>=3.6 in c:\\setup program\\anaconda\\lib\\site-packages (from lab) (3.7)\n",
      "Requirement already satisfied: matplotlib in c:\\setup program\\anaconda\\lib\\site-packages (from lab) (3.4.3)\n",
      "Requirement already satisfied: numpy>=1.16 in c:\\setup program\\anaconda\\lib\\site-packages (from matplotlib->lab) (1.20.3)\n",
      "Requirement already satisfied: pillow>=6.2.0 in c:\\setup program\\anaconda\\lib\\site-packages (from matplotlib->lab) (8.4.0)\n",
      "Requirement already satisfied: cycler>=0.10 in c:\\setup program\\anaconda\\lib\\site-packages (from matplotlib->lab) (0.10.0)\n",
      "Requirement already satisfied: python-dateutil>=2.7 in c:\\setup program\\anaconda\\lib\\site-packages (from matplotlib->lab) (2.8.2)\n",
      "Requirement already satisfied: pyparsing>=2.2.1 in c:\\setup program\\anaconda\\lib\\site-packages (from matplotlib->lab) (3.0.4)\n",
      "Requirement already satisfied: kiwisolver>=1.0.1 in c:\\setup program\\anaconda\\lib\\site-packages (from matplotlib->lab) (1.3.1)\n",
      "Requirement already satisfied: six in c:\\setup program\\anaconda\\lib\\site-packages (from cycler>=0.10->matplotlib->lab) (1.16.0)\n",
      "Note: you may need to restart the kernel to use updated packages.\n"
     ]
    }
   ],
   "source": [
    "pip install py lab"
   ]
  },
  {
   "cell_type": "code",
   "execution_count": 6,
   "id": "0b1d5adb",
   "metadata": {},
   "outputs": [
    {
     "name": "stdout",
     "output_type": "stream",
     "text": [
      "Requirement already satisfied: param in c:\\setup program\\anaconda\\lib\\site-packages (1.12.2)\n",
      "Note: you may need to restart the kernel to use updated packages.\n"
     ]
    }
   ],
   "source": [
    "pip install param"
   ]
  },
  {
   "cell_type": "code",
   "execution_count": 7,
   "id": "a9922fb6",
   "metadata": {},
   "outputs": [
    {
     "name": "stdout",
     "output_type": "stream",
     "text": [
      "Requirement already satisfied: value in c:\\setup program\\anaconda\\lib\\site-packages (0.1.0)\n",
      "Note: you may need to restart the kernel to use updated packages.\n"
     ]
    }
   ],
   "source": [
    "pip install value"
   ]
  },
  {
   "cell_type": "code",
   "execution_count": 8,
   "id": "1e216bc2",
   "metadata": {},
   "outputs": [
    {
     "name": "stdout",
     "output_type": "stream",
     "text": [
      "Requirement already satisfied: solve in c:\\setup program\\anaconda\\lib\\site-packages (0.0.0)\n",
      "Note: you may need to restart the kernel to use updated packages.\n"
     ]
    }
   ],
   "source": [
    "pip install solve"
   ]
  },
  {
   "cell_type": "code",
   "execution_count": 9,
   "id": "419405b3",
   "metadata": {},
   "outputs": [
    {
     "name": "stdout",
     "output_type": "stream",
     "text": [
      "Requirement already satisfied: pandas in c:\\setup program\\anaconda\\lib\\site-packages (1.3.4)\n",
      "Requirement already satisfied: python-dateutil>=2.7.3 in c:\\setup program\\anaconda\\lib\\site-packages (from pandas) (2.8.2)\n",
      "Requirement already satisfied: numpy>=1.17.3 in c:\\setup program\\anaconda\\lib\\site-packages (from pandas) (1.20.3)\n",
      "Requirement already satisfied: pytz>=2017.3 in c:\\setup program\\anaconda\\lib\\site-packages (from pandas) (2021.3)\n",
      "Requirement already satisfied: six>=1.5 in c:\\setup program\\anaconda\\lib\\site-packages (from python-dateutil>=2.7.3->pandas) (1.16.0)\n",
      "Note: you may need to restart the kernel to use updated packages.\n"
     ]
    }
   ],
   "source": [
    "pip install pandas"
   ]
  },
  {
   "cell_type": "code",
   "execution_count": 10,
   "id": "2b48e51d",
   "metadata": {},
   "outputs": [
    {
     "name": "stdout",
     "output_type": "stream",
     "text": [
      "Requirement already satisfied: matplotlib in c:\\setup program\\anaconda\\lib\\site-packages (3.4.3)\n",
      "Requirement already satisfied: pillow>=6.2.0 in c:\\setup program\\anaconda\\lib\\site-packages (from matplotlib) (8.4.0)\n",
      "Requirement already satisfied: cycler>=0.10 in c:\\setup program\\anaconda\\lib\\site-packages (from matplotlib) (0.10.0)\n",
      "Requirement already satisfied: pyparsing>=2.2.1 in c:\\setup program\\anaconda\\lib\\site-packages (from matplotlib) (3.0.4)\n",
      "Requirement already satisfied: kiwisolver>=1.0.1 in c:\\setup program\\anaconda\\lib\\site-packages (from matplotlib) (1.3.1)\n",
      "Requirement already satisfied: numpy>=1.16 in c:\\setup program\\anaconda\\lib\\site-packages (from matplotlib) (1.20.3)\n",
      "Requirement already satisfied: python-dateutil>=2.7 in c:\\setup program\\anaconda\\lib\\site-packages (from matplotlib) (2.8.2)\n",
      "Requirement already satisfied: six in c:\\setup program\\anaconda\\lib\\site-packages (from cycler>=0.10->matplotlib) (1.16.0)\n",
      "Note: you may need to restart the kernel to use updated packages.\n"
     ]
    }
   ],
   "source": [
    "pip install matplotlib"
   ]
  },
  {
   "cell_type": "code",
   "execution_count": 11,
   "id": "7d3fbece",
   "metadata": {},
   "outputs": [
    {
     "name": "stdout",
     "output_type": "stream",
     "text": [
      "Requirement already satisfied: animation in c:\\setup program\\anaconda\\lib\\site-packages (0.0.7)\n",
      "Requirement already satisfied: pychalk in c:\\setup program\\anaconda\\lib\\site-packages (from animation) (2.0.1)\n",
      "Requirement already satisfied: six>=1.11.0 in c:\\setup program\\anaconda\\lib\\site-packages (from pychalk->animation) (1.16.0)\n",
      "Note: you may need to restart the kernel to use updated packages.\n"
     ]
    }
   ],
   "source": [
    "pip install animation"
   ]
  },
  {
   "cell_type": "code",
   "execution_count": 12,
   "id": "0b623fb0",
   "metadata": {},
   "outputs": [
    {
     "name": "stdout",
     "output_type": "stream",
     "text": [
      "Requirement already satisfied: numpy in c:\\setup program\\anaconda\\lib\\site-packages (1.20.3)\n",
      "Note: you may need to restart the kernel to use updated packages.\n"
     ]
    }
   ],
   "source": [
    "pip install numpy"
   ]
  },
  {
   "cell_type": "code",
   "execution_count": 13,
   "id": "e8c09080",
   "metadata": {},
   "outputs": [
    {
     "name": "stdout",
     "output_type": "stream",
     "text": [
      "Requirement already satisfied: env in c:\\setup program\\anaconda\\lib\\site-packages (0.1.0)\n",
      "Note: you may need to restart the kernel to use updated packages.\n"
     ]
    }
   ],
   "source": [
    "pip install env"
   ]
  },
  {
   "cell_type": "code",
   "execution_count": 14,
   "id": "6fb80d15",
   "metadata": {},
   "outputs": [
    {
     "name": "stdout",
     "output_type": "stream",
     "text": [
      "Requirement already satisfied: gym in c:\\setup program\\anaconda\\lib\\site-packages (0.25.2)\n",
      "Requirement already satisfied: cloudpickle>=1.2.0 in c:\\setup program\\anaconda\\lib\\site-packages (from gym) (2.0.0)\n",
      "Requirement already satisfied: numpy>=1.18.0 in c:\\setup program\\anaconda\\lib\\site-packages (from gym) (1.20.3)\n",
      "Requirement already satisfied: gym-notices>=0.0.4 in c:\\setup program\\anaconda\\lib\\site-packages (from gym) (0.0.8)\n",
      "Requirement already satisfied: importlib-metadata>=4.8.0 in c:\\setup program\\anaconda\\lib\\site-packages (from gym) (4.8.1)\n",
      "Requirement already satisfied: zipp>=0.5 in c:\\setup program\\anaconda\\lib\\site-packages (from importlib-metadata>=4.8.0->gym) (3.6.0)\n",
      "Note: you may need to restart the kernel to use updated packages.\n"
     ]
    }
   ],
   "source": [
    "pip install gym"
   ]
  },
  {
   "cell_type": "code",
   "execution_count": 15,
   "id": "c561316b",
   "metadata": {},
   "outputs": [
    {
     "name": "stdout",
     "output_type": "stream",
     "text": [
      "Requirement already satisfied: pygame in c:\\setup program\\anaconda\\lib\\site-packages (2.1.2)\n",
      "Note: you may need to restart the kernel to use updated packages.\n"
     ]
    }
   ],
   "source": [
    "pip install pygame"
   ]
  },
  {
   "cell_type": "markdown",
   "id": "3470c148",
   "metadata": {},
   "source": [
    "# 2. Pendulum Simulation using Python: example of a system"
   ]
  },
  {
   "cell_type": "code",
   "execution_count": 2,
   "id": "56a8928b",
   "metadata": {},
   "outputs": [
    {
     "name": "stdout",
     "output_type": "stream",
     "text": [
      "apm 132.154.53.236_gk_model0 <br><pre> ----------------------------------------------------------------\n",
      " APMonitor, Version 1.0.1\n",
      " APMonitor Optimization Suite\n",
      " ----------------------------------------------------------------\n",
      " \n",
      " \n",
      " --------- APM Model Size ------------\n",
      " Each time step contains\n",
      "   Objects      :            0\n",
      "   Constants    :            0\n",
      "   Variables    :            8\n",
      "   Intermediates:            1\n",
      "   Connections  :            8\n",
      "   Equations    :           10\n",
      "   Residuals    :            9\n",
      " \n",
      " Number of state variables:            883\n",
      " Number of total equations: -          792\n",
      " Number of slack variables: -            0\n",
      " ---------------------------------------\n",
      " Degrees of freedom       :             91\n",
      " \n",
      " **********************************************\n",
      " Dynamic Control with Interior Point Solver\n",
      " **********************************************\n",
      "  \n",
      "  \n",
      " Info: Exact Hessian\n",
      "\n",
      "******************************************************************************\n",
      "This program contains Ipopt, a library for large-scale nonlinear optimization.\n",
      " Ipopt is released as open source code under the Eclipse Public License (EPL).\n",
      "         For more information visit http://projects.coin-or.org/Ipopt\n",
      "******************************************************************************\n",
      "\n",
      "This is Ipopt version 3.12.10, running with linear solver ma57.\n",
      "\n",
      "Number of nonzeros in equality constraint Jacobian...:     2154\n",
      "Number of nonzeros in inequality constraint Jacobian.:        0\n",
      "Number of nonzeros in Lagrangian Hessian.............:      491\n",
      "\n",
      "Total number of variables............................:      883\n",
      "                     variables with only lower bounds:        0\n",
      "                variables with lower and upper bounds:        0\n",
      "                     variables with only upper bounds:        0\n",
      "Total number of equality constraints.................:      792\n",
      "Total number of inequality constraints...............:        0\n",
      "        inequality constraints with only lower bounds:        0\n",
      "   inequality constraints with lower and upper bounds:        0\n",
      "        inequality constraints with only upper bounds:        0\n",
      "\n",
      "iter    objective    inf_pr   inf_du lg(mu)  ||d||  lg(rg) alpha_du alpha_pr  ls\n",
      "   0  2.2000000e+01 1.00e+00 2.00e+00   0.0 0.00e+00    -  0.00e+00 0.00e+00   0\n",
      "   1  9.7475875e-03 1.53e-12 1.67e-16 -11.0 1.16e+00    -  1.00e+00 1.00e+00f  1\n",
      "\n",
      "Number of Iterations....: 1\n",
      "\n",
      "                                   (scaled)                 (unscaled)\n",
      "Objective...............:   9.7475874602389028e-03    9.7475874602389028e-03\n",
      "Dual infeasibility......:   1.6653345369377348e-16    1.6653345369377348e-16\n",
      "Constraint violation....:   1.5250414599445896e-12    1.5250414599445896e-12\n",
      "Complementarity.........:   0.0000000000000000e+00    0.0000000000000000e+00\n",
      "Overall NLP error.......:   1.5250414599445896e-12    1.5250414599445896e-12\n",
      "\n",
      "\n",
      "Number of objective function evaluations             = 2\n",
      "Number of objective gradient evaluations             = 2\n",
      "Number of equality constraint evaluations            = 2\n",
      "Number of inequality constraint evaluations          = 0\n",
      "Number of equality constraint Jacobian evaluations   = 2\n",
      "Number of inequality constraint Jacobian evaluations = 0\n",
      "Number of Lagrangian Hessian evaluations             = 1\n",
      "Total CPU secs in IPOPT (w/o function evaluations)   =      0.012\n",
      "Total CPU secs in NLP function evaluations           =      0.020\n",
      "\n",
      "EXIT: Optimal Solution Found.\n",
      " \n",
      " The solution was found.\n",
      " \n",
      " The final value of the objective function is   9.747587460238903E-003\n",
      " \n",
      " ---------------------------------------------------\n",
      " Solver         :  IPOPT (v3.12)\n",
      " Solution time  :   4.230000000097789E-002 sec\n",
      " Objective      :   9.747587460238903E-003\n",
      " Successful solution\n",
      " ---------------------------------------------------\n",
      " \n"
     ]
    },
    {
     "data": {
      "image/png": "[encoded data removed]",
      "text/plain": [
       "<Figure size 864x720 with 4 Axes>"
      ]
     },
     "metadata": {
      "needs_background": "light"
     },
     "output_type": "display_data"
    },
    {
     "data": {
      "image/png": "[encoded data removed]",
      "text/plain": [
       "<Figure size 576x460.8 with 1 Axes>"
      ]
     },
     "metadata": {
      "needs_background": "light"
     },
     "output_type": "display_data"
    }
   ],
   "source": [
    "# Contributed by Everton Colling\n",
    "import matplotlib.animation as animation\n",
    "import numpy as np\n",
    "from gekko import GEKKO\n",
    "\n",
    "#Defining a model\n",
    "m = GEKKO()\n",
    "\n",
    "#################################\n",
    "#Weight of item\n",
    "m2 = 1\n",
    "#################################\n",
    "\n",
    "#Defining the time, we will go beyond the 6.2s\n",
    "#to check if the objective was achieved\n",
    "m.time = np.linspace(0,8,100)\n",
    "end_loc = int(100.0*6.2/8.0)\n",
    "\n",
    "#Parameters\n",
    "m1a = m.Param(value=10)\n",
    "m2a = m.Param(value=m2)\n",
    "final = np.zeros(len(m.time))\n",
    "for i in range(len(m.time)):\n",
    "    if m.time[i] < 6.2:\n",
    "        final[i] = 0\n",
    "    else:\n",
    "        final[i] = 1\n",
    "final = m.Param(value=final)\n",
    "\n",
    "#MV\n",
    "ua = m.Var(value=0)\n",
    "\n",
    "#State Variables\n",
    "theta_a = m.Var(value=0)\n",
    "qa = m.Var(value=0)\n",
    "ya = m.Var(value=-1)\n",
    "va = m.Var(value=0)\n",
    "\n",
    "#Intermediates\n",
    "epsilon = m.Intermediate(m2a/(m1a+m2a))\n",
    "\n",
    "#Defining the State Space Model\n",
    "m.Equation(ya.dt() == va)\n",
    "m.Equation(va.dt() == -epsilon*theta_a + ua)\n",
    "m.Equation(theta_a.dt() == qa)\n",
    "m.Equation(qa.dt() == theta_a -ua)\n",
    "\n",
    "#Definine the Objectives\n",
    "#Make all the state variables be zero at time >= 6.2\n",
    "m.Obj(final*ya**2)\n",
    "m.Obj(final*va**2)\n",
    "m.Obj(final*theta_a**2)\n",
    "m.Obj(final*qa**2)\n",
    "\n",
    "m.fix(ya,pos=end_loc,val=0.0)\n",
    "m.fix(va,pos=end_loc,val=0.0)\n",
    "m.fix(theta_a,pos=end_loc,val=0.0)\n",
    "m.fix(qa,pos=end_loc,val=0.0)\n",
    "#Try to minimize change of MV over all horizon\n",
    "m.Obj(0.001*ua**2)\n",
    "\n",
    "m.options.IMODE = 6 #MPC\n",
    "m.solve() #(disp=False)\n",
    "\n",
    "#Plotting the results\n",
    "import matplotlib.pyplot as plt\n",
    "plt.figure(figsize=(12,10))\n",
    "\n",
    "plt.subplot(221)\n",
    "plt.plot(m.time,ua.value,'m',lw=2)\n",
    "plt.legend([r'$u$'],loc=1)\n",
    "plt.ylabel('Force')\n",
    "plt.xlabel('Time')\n",
    "plt.xlim(m.time[0],m.time[-1])\n",
    "\n",
    "plt.subplot(222)\n",
    "plt.plot(m.time,va.value,'g',lw=2)\n",
    "plt.legend([r'$v$'],loc=1)\n",
    "plt.ylabel('Velocity')\n",
    "plt.xlabel('Time')\n",
    "plt.xlim(m.time[0],m.time[-1])\n",
    "\n",
    "plt.subplot(223)\n",
    "plt.plot(m.time,ya.value,'r',lw=2)\n",
    "plt.legend([r'$y$'],loc=1)\n",
    "plt.ylabel('Position')\n",
    "plt.xlabel('Time')\n",
    "plt.xlim(m.time[0],m.time[-1])\n",
    "\n",
    "plt.subplot(224)\n",
    "plt.plot(m.time,theta_a.value,'y',lw=2)\n",
    "plt.plot(m.time,qa.value,'c',lw=2)\n",
    "plt.legend([r'$\\theta$',r'$q$'],loc=1)\n",
    "plt.ylabel('Angle')\n",
    "plt.xlabel('Time')\n",
    "plt.xlim(m.time[0],m.time[-1])\n",
    "\n",
    "plt.rcParams['animation.html'] = 'html5'\n",
    "\n",
    "x1 = ya.value\n",
    "y1 = np.zeros(len(m.time))\n",
    "\n",
    "#suppose that l = 1\n",
    "x2 = 1*np.sin(theta_a.value)+x1\n",
    "x2b = 1.05*np.sin(theta_a.value)+x1\n",
    "y2 = 1*np.cos(theta_a.value)-y1\n",
    "y2b = 1.05*np.cos(theta_a.value)-y1\n",
    "\n",
    "fig = plt.figure(figsize=(8,6.4))\n",
    "ax = fig.add_subplot(111,autoscale_on=False,\\\n",
    "                     xlim=(-1.5,0.5),ylim=(-0.4,1.2))\n",
    "ax.set_xlabel('position')\n",
    "ax.get_yaxis().set_visible(False)\n",
    "\n",
    "crane_rail, = ax.plot([-1.5,0.5],[-0.2,-0.2],'k-',lw=4)\n",
    "start, = ax.plot([-1,-1],[-1.5,1.5],'k:',lw=2)\n",
    "objective, = ax.plot([0,0],[-0.5,1.5],'k:',lw=2)\n",
    "mass1, = ax.plot([],[],linestyle='None',marker='s',\\\n",
    "                 markersize=40,markeredgecolor='k',\\\n",
    "                 color='orange',markeredgewidth=2)\n",
    "mass2, = ax.plot([],[],linestyle='None',marker='o',\\\n",
    "                 markersize=20,markeredgecolor='k',\\\n",
    "                 color='orange',markeredgewidth=2)\n",
    "line, = ax.plot([],[],'o-',color='orange',lw=4,\\\n",
    "                markersize=6,markeredgecolor='k',\\\n",
    "                markerfacecolor='k')\n",
    "time_template = 'time = %.1fs'\n",
    "time_text = ax.text(0.05,0.9,'',transform=ax.transAxes)\n",
    "start_text = ax.text(-1.06,-0.3,'start',ha='right')\n",
    "end_text = ax.text(0.06,-0.3,'objective',ha='left')\n",
    "\n",
    "def init():\n",
    "    mass1.set_data([],[])\n",
    "    mass2.set_data([],[])\n",
    "    line.set_data([],[])\n",
    "    time_text.set_text('')\n",
    "    return line, mass1, mass2, time_text\n",
    "\n",
    "def animate(i):\n",
    "    mass1.set_data([x1[i]],[y1[i]-0.1])\n",
    "    mass2.set_data([x2b[i]],[y2b[i]])\n",
    "    line.set_data([x1[i],x2[i]],[y1[i],y2[i]])\n",
    "    time_text.set_text(time_template % m.time[i])\n",
    "    return line, mass1, mass2, time_text\n",
    "\n",
    "ani_a = animation.FuncAnimation(fig, animate, \\\n",
    "         np.arange(1,len(m.time)), \\\n",
    "         interval=40,blit=False,init_func=init)\n",
    "\n",
    "# requires ffmpeg to save mp4 file\n",
    "#  available from https://ffmpeg.zeranoe.com/builds/\n",
    "#  add ffmpeg.exe to path such as C:\\ffmpeg\\bin\\ in\n",
    "#  environment variables\n",
    "\n",
    "#ani_a.save('Pendulum_Control.mp4',fps=60)\n",
    "\n",
    "plt.show()"
   ]
  },
  {
   "cell_type": "code",
   "execution_count": null,
   "id": "cf0d878e",
   "metadata": {},
   "outputs": [],
   "source": []
  }
 ],
 "metadata": {
  "kernelspec": {
   "display_name": "Python 3 (ipykernel)",
   "language": "python",
   "name": "python3"
  },
  "language_info": {
   "codemirror_mode": {
    "name": "ipython",
    "version": 3
   },
   "file_extension": ".py",
   "mimetype": "text/x-python",
   "name": "python",
   "nbconvert_exporter": "python",
   "pygments_lexer": "ipython3",
   "version": "3.9.7"
  }
 },
 "nbformat": 4,
 "nbformat_minor": 5
}
